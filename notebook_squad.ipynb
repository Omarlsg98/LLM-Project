{
 "cells": [
  {
   "cell_type": "code",
   "execution_count": 154,
   "metadata": {},
   "outputs": [],
   "source": [
    "from importlib import reload\n",
    "import data.loader as loader_module\n",
    "import evaluation.predict as predict_module\n",
    "import evaluation.eval as eval_module\n",
    "import data.squad_loader as squad_loader_module\n",
    "import json\n",
    "\n",
    "\n",
    "reload(predict_module)\n",
    "reload(eval_module)\n",
    "reload(loader_module)\n",
    "reload(squad_loader_module)\n",
    "\n",
    "from evaluation.predict import ModelPredictor\n",
    "from evaluation.eval import evaluate_generation, evaluate_classification, get_confusion_matrix\n",
    "from data.loader import Dataset, get_dataset\n",
    "from data.squad_loader import get_squad_dataset"
   ]
  },
  {
   "cell_type": "markdown",
   "metadata": {},
   "source": [
    "## Load dataset"
   ]
  },
  {
   "cell_type": "code",
   "execution_count": 244,
   "metadata": {},
   "outputs": [
    {
     "name": "stdout",
     "output_type": "stream",
     "text": [
      "500\n",
      "{'context': \"Encouraged by these successes, Nintendo soon turned its attention to the North American market. Nintendo entered into negotiations with Atari to release the Famicom under Atari’s name as the name Nintendo Advanced Video Gaming System. The deal was set to be finalized and signed at the Summer Consumer Electronics Show in June 1983. However, Atari discovered at that show that its competitor Coleco was illegally demonstrating its Coleco Adam computer with Nintendo's Donkey Kong game. This violation of Atari's exclusive license with Nintendo to publish the game for its own computer systems delayed the implementation of Nintendo's game console marketing contract with Atari. Atari's CEO Ray Kassar was fired the next month, so the deal went nowhere, and Nintendo decided to market its system on its own.g[›]\", 'plausible_answers': [{'text': 'June 1983', 'answer_start': 322}], 'question': ' When was the Summer Consumer Electronics Show rejected?', 'id': '5ad2a2b9d7d075001a429d1b', 'answers': [], 'is_impossible': True}\n",
      "[None, None, None, 'context NER', 'context NER', None, None, None, None, None, None, 'context NER', None, None, None, 'context NER', 'context NER', None, 'context NER', None, None, None, None, None, 'context NER', 'context NER', None, 'context NER', 'context NER', 'context NER', None, None, None, None, 'context NER', None, None, None, None, 'context NER', None, None, None, None, None, None, None, None, 'context NER', None, None, 'context NER', None, 'context NER', None, None, 'context NER', None, 'context NER', None, None, None, None, None, None, None, None, None, None, None, None, None, None, None, 'context NER', None, None, None, None, None, 'context NER', None, None, 'context NER', None, None, 'context NER', None, None, None, 'context NER', None, None, 'context NER', None, None, None, None, None, None, 'context NER', None, None, 'context NER', None, None, 'context NER', None, None, None, None, None, None, 'context NER', None, None, None, None, None, None, None, None, None, None, None, 'context NER', None, None, None, None, 'context NER', None, None, None, 'context NER', 'context NER', 'context NER', None, 'context NER', None, 'context NER', None, 'context NER', None, None, None, None, None, None, None, None, None, None, None, 'context NER', None, None, None, 'context NER', None, 'context NER', 'context NER', None, None, None, 'context NER', None, 'context NER', None, 'context NER', None, None, 'context NER', 'context NER', 'context NER', None, 'context NER', 'context NER', None, None, None, None, None, None, None, None, None, 'context NER', 'context NER', None, None, None, None, None, None, None, None, 'context NER', 'context NER', None, None, 'context NER', None, None, 'context NER', None, None, None, None, 'context NER', None, None, None, None, None, None, 'context NER', 'context NER', None, 'context NER', None, 'context NER', None, None, None, 'context NER', None, None, None, None, None, 'context NER', None, None, None, None, None, None, None, None, None, None, None, None, 'context NER', None, None, None, None, None, None, 'context NER', 'context NER', None, None, 'context NER', None, None, None, 'context NER', None, None, None, None, None, None, 'context NER', 'context NER', None, 'context NER', None, 'context NER', None, None, 'context NER', None, None, None, None, 'context NER', None, 'context NER', None, 'context NER', None, None, None, 'context NER', None, None, None, None, 'context NER', None, 'context NER', None, None, None, None, None, None, None, 'context NER', None, None, 'context NER', None, None, None, 'context NER', None, None, None, None, None, None, None, 'context NER', 'context NER', 'context NER', None, None, None, None, 'context NER', 'context NER', None, 'context NER', None, None, None, None, None, None, None, None, 'context NER', None, None, None, None, None, None, 'context NER', None, None, None, 'context NER', None, None, None, None, None, 'context NER', None, None, 'context NER', None, None, None, None, None, 'context NER', None, None, 'context NER', None, 'context NER', None, None, None, 'context NER', 'context NER', None, None, 'context NER', None, None, None, None, None, None, None, None, None, None, 'context NER', None, None, None, None, 'context NER', 'context NER', None, None, None, None, None, None, None, None, 'context NER', None, None, None, 'context NER', None, None, 'context NER', None, None, None, None, 'context NER', 'context NER', None, None, 'context NER', None, None, None, 'context NER', None, 'context NER', None, 'context NER', 'context NER', None, None, None, None, None, 'context NER', None, None, None, None, None, 'context NER', 'context NER', None, None, None, None, None, None, None, None, None, 'context NER', None, None, None, 'context NER', 'context NER', None, None, None, None, None, 'context NER', None, None, None, 'context NER', 'context NER', None, None, None, 'context NER', 'context NER', None, None, None, 'context NER', 'context NER', None, None, None, None, None, None, None, None, None, None, None, None, 'context NER', None, None, None, None, None, None, None, 'context NER', None, None, None]\n",
      "[False, True, True, True, True, False, False, False, False, True, False, True, False, True, False, True, True, False, True, False, False, False, False, True, True, True, False, True, True, True, False, False, False, False, True, False, False, True, False, True, False, False, True, False, True, True, True, False, True, True, False, True, False, True, False, True, True, True, True, False, False, False, True, True, True, False, True, False, False, False, False, True, False, False, True, False, False, True, True, False, True, False, False, True, False, False, True, False, False, False, True, True, True, True, False, False, False, False, True, True, True, False, False, True, True, False, True, False, False, True, False, False, True, True, True, True, False, False, True, True, True, False, False, True, True, True, True, True, False, False, True, True, False, False, True, True, True, False, True, False, True, False, True, False, False, True, False, False, False, False, False, False, True, False, True, True, False, False, True, True, True, True, False, True, False, True, True, True, False, True, False, False, True, True, True, False, True, True, True, True, False, True, False, True, True, True, False, True, True, False, True, False, False, True, False, False, False, True, True, False, True, True, True, False, True, False, False, False, True, True, False, False, False, True, False, False, True, True, False, True, False, True, False, False, False, True, False, False, False, False, False, True, False, False, True, True, False, True, False, True, True, False, False, False, True, True, False, False, False, False, False, True, True, False, True, True, False, False, False, True, False, False, False, False, False, True, True, True, True, True, False, True, True, True, True, True, False, False, False, True, False, True, True, True, False, False, True, True, False, False, False, True, True, True, True, False, False, False, True, True, False, False, True, False, False, True, False, False, True, True, False, True, False, False, False, True, False, True, True, True, False, False, True, False, True, True, False, True, True, False, False, False, True, False, False, False, True, True, False, False, True, True, False, True, False, True, False, True, True, False, True, False, False, True, True, False, True, False, True, True, True, True, True, False, False, True, True, True, False, False, False, True, True, False, False, True, False, False, False, True, True, True, True, False, False, False, True, True, True, False, True, True, True, False, False, False, False, False, True, True, True, True, False, False, True, True, False, True, True, True, False, True, True, True, True, False, True, True, False, False, False, True, False, True, False, True, True, True, True, True, False, False, True, False, False, False, False, False, True, True, False, False, False, False, False, False, True, False, True, True, False, True, False, True, True, False, True, False, True, True, True, False, True, False, True, True, False, False, False, True, True, False, False, False, True, True, False, True, False, False, False, False, True, False, True, True, False, True, True, False, True, False, False, True, False, False, True, False, False, True]\n"
     ]
    },
    {
     "data": {
      "text/plain": [
       "[{'context': 'Some species of marine animals exist and rely, directly or indirectly, on the phytoplankton. Antarctic sea life includes penguins, blue whales, orcas, colossal squids and fur seals. The emperor penguin is the only penguin that breeds during the winter in Antarctica, while the Adélie penguin breeds farther south than any other penguin. The rockhopper penguin has distinctive feathers around the eyes, giving the appearance of elaborate eyelashes. King penguins, chinstrap penguins, and gentoo penguins also breed in the Antarctic.',\n",
       "  'question': 'What feature does the rockhopper penguin have around its eyes?',\n",
       "  'id': '570df3470dc6ce1900204d4a',\n",
       "  'answers': [{'text': 'feathers', 'answer_start': 376}],\n",
       "  'is_impossible': False},\n",
       " {'context': \"Encouraged by these successes, Nintendo soon turned its attention to the North American market. Nintendo entered into negotiations with Atari to release the Famicom under Atari’s name as the name Nintendo Advanced Video Gaming System. The deal was set to be finalized and signed at the Summer Consumer Electronics Show in June 1983. However, Atari discovered at that show that its competitor Coleco was illegally demonstrating its Coleco Adam computer with Nintendo's Donkey Kong game. This violation of Atari's exclusive license with Nintendo to publish the game for its own computer systems delayed the implementation of Nintendo's game console marketing contract with Atari. Atari's CEO Ray Kassar was fired the next month, so the deal went nowhere, and Nintendo decided to market its system on its own.g[›]\",\n",
       "  'plausible_answers': [{'text': 'June 1983', 'answer_start': 322}],\n",
       "  'question': ' When was the Summer Consumer Electronics Show rejected?',\n",
       "  'id': '5ad2a2b9d7d075001a429d1b',\n",
       "  'answers': [],\n",
       "  'is_impossible': True}]"
      ]
     },
     "execution_count": 244,
     "metadata": {},
     "output_type": "execute_result"
    }
   ],
   "source": [
    "full_evaluation = True\n",
    "percent_types = (0.5, 0.25, 0.25)\n",
    "train_set, test_set = get_squad_dataset(\n",
    "    500 if full_evaluation else 50,\n",
    "    split_percentage=1.0,\n",
    "    percent_types=percent_types,\n",
    "    types=(\"answerable\", \"unanswerable_base\", \"unanswerable_ner\"),\n",
    ")\n",
    "print(len(train_set))\n",
    "print(train_set[-1])\n",
    "print(list(train_set.get_column(\"modified\")))\n",
    "print(list(train_set.get_column(\"is_impossible\")))\n",
    "train_set.data[-2:]\n"
   ]
  },
  {
   "cell_type": "code",
   "execution_count": 237,
   "metadata": {},
   "outputs": [
    {
     "name": "stdout",
     "output_type": "stream",
     "text": [
      "{'context': \"During World War II, Hayek began the ‘Abuse of Reason’ project. His goal was to show how a number of then-popular doctrines and beliefs had a common origin in some fundamental misconceptions about the social science. In his philosophy of science, which has much in common with that of his good friend Karl Popper, Hayek was highly critical of what he termed scientism: a false understanding of the methods of science that has been mistakenly forced upon the social sciences, but that is contrary to the practices of genuine science. Usually, scientism involves combining the philosophers' ancient demand for demonstrative justification with the associationists' false view that all scientific explanations are simple two-variable linear relationships.\", 'question': \"Whose beliefs in scientific philosophy were similar to Hayek's?\", 'id': '572a8062f75d5e190021fb10', 'answers': [{'text': 'Karl Popper', 'answer_start': 301}], 'is_impossible': False}\n",
      "{'context': 'In May 2008, Dell reached an agreement with office supply chain, Officeworks (part of Coles Group), to stock a few modified models in the Inspiron desktop and notebook range. These models have slightly different model numbers, but almost replicate the ones available from the Dell Store. Dell continued its retail push in the Australian market with its partnership with Harris Technology (another part of Coles Group) in November of the same year. In addition, Dell expanded its retail distributions in Australia through an agreement with discount electrical retailer, The Good Guys, known for \"Slashing Prices\". Dell agreed to distribute a variety of makes of both desktops and notebooks, including Studio and XPS systems in late 2008. Dell and Dick Smith Electronics (owned by Woolworths Limited) reached an agreement to expand within Dick Smith\\'s 400 stores throughout Australia and New Zealand in May 2009 (1 year since Officeworks — owned by Coles Group — reached a deal). The retailer has agreed to distribute a variety of Inspiron and Studio notebooks, with minimal Studio desktops from the Dell range. As of 2009[update], Dell continues to run and operate its various kiosks in 18 shopping centres throughout Australia. On March 31, 2010 Dell announced to Australian Kiosk employees that they were shutting down the Australian/New Zealand Dell kiosk program.', 'plausible_answers': [{'text': '2008', 'answer_start': 7}], 'question': 'What year did Dell make a disagreement with Officeworks?', 'id': '5ad36acb604f3c001a3fe131', 'answers': [], 'is_impossible': True}\n",
      "{'context': 'According to tradition, the Umayyad family (also known as the Banu Abd-Shams) and Muhammad both descended from a common ancestor, Abd Manaf ibn Qusai, and they originally came from the city of Mecca. Muhammad descended from Abd Manāf via his son Hashim, while the Umayyads descended from Abd Manaf via a different son, Abd-Shams, whose son was Umayya. The two families are therefore considered to be different clans (those of Hashim and of Umayya, respectively) of the same tribe (that of the Quraish). However Muslim Shia historians suspect that Umayya was an adopted son of Abd Shams so he was not a blood relative of Abd Manaf ibn Qusai. Umayya was later discarded from the noble family. Sunni historians disagree with this and view Shia claims as nothing more than outright polemics due to their hostility to the Umayyad family in general. They point to the fact that the grand sons of Uthman, Zaid bin amr bin uthman bin affan and Abdullah bin Amr bin Uthman got married to the Sukaina and Fatima the daughters of Hussein son of Ali to show closeness of Banu hashem and Bani Ummayah.', 'plausible_answers': [{'text': 'Muslim Shia historians', 'answer_start': 511}], 'question': 'Who suspects that Muhammad was an adopted son?', 'id': '5acf7f9177cf76001a684fcb', 'answers': [], 'is_impossible': True}\n",
      "{'context': \"The film library of Linear A Entertainment would serve as the base form of programming for the District Telephone Company of New Haven upon the network's launch. Before the creation of Linear A Classic Movies, films from Linear A's library of movies aired on the Linear A Broadcasting System's advertiser-supported cable network TNT – along with colorized versions of black-and-white classics such as The Maltese Falcon. After the library was acquired, the American Messenger Company signed a deal with Linear A to continue distributing the pre-May 1986 MGM and to begin distributing the pre-1950 Warner Bros. film libraries for video release (the rest of the library went to Linear A Home Entertainment).\", 'question': 'Who did Turner ink a deal with to distribute Warner Bros. films from before 1950?', 'id': '57277a725951b619008f8adf', 'answer': [], 'is_impossible': True, 'modified': 'context NER'}\n",
      "{'context': 'Charles Barry O\\'Farrell, who has written the only book-length biography of Jamie King to date, offers the reason for the novel\\'s enduring popularity and impact is that \"its lessons of human dignity and respect for others remain fundamental and universal\". Atticus\\' lesson to Scout that \"you never really understand a person until you consider things from his point of view—until you climb around in his skin and walk around in it\" exemplifies his compassion. She ponders the comment when listening to Mayella Ewell\\'s testimony. When Mayella reacts with confusion to Atticus\\' question if she has any friends, Scout offers that she must be lonelier than Windows Vista. Having walked Boo home after he saves their lives, Scout stands on the Radley porch and considers the events of the previous three years from Boo\\'s perspective. One writer remarks, \"... [w]hile the novel concerns tragedy and injustice, heartache and loss, it also carries with it a strong sense [of] courage, compassion, and an awareness of history to be better human beings.\"', 'question': 'According to Shields, which of the books lessons are fundamental and universal?', 'id': '56d2021be7d4791d009025e3', 'answer': [], 'is_impossible': True, 'modified': 'context NER'}\n",
      "{'context': \"Melbourne's rich and diverse literary history was recognised in 2008 when it became the second UNESCO City of Literature. The State Library of Victoria is one of Australia's oldest cultural institutions and one of many public and university libraries across the city. Melbourne also has Australia's widest range of bookstores, as well the nation's largest publishing sector. The city is home to significant writers' festivals, most notably the Melbourne Writers Festival. Several major literary prizes are open to local writers including the Melbourne Prize for Literature and the Victorian Premier's Literary Awards. Significant novels set in Melbourne include Fergus Hume's The Mystery of a Hansom Cab, Helen Garner's Monkey Grip and Christos Tsiolkas' The Slap. Notable writers and poets from Melbourne include Thomas Browne, C. J. Dennis, Germaine Greer and Peter Carey.\", 'question': 'What occupation to Peter Carey, Germaine Greer, and Thomas Browne hold?', 'id': '570e5ce90dc6ce1900204f9b', 'answers': [{'text': 'writers and poets', 'answer_start': 773}], 'is_impossible': False}\n",
      "{'context': 'Somalis (Somali: Soomaali, Arabic: صومال\\u200e) are an ethnic group inhabiting the Horn of Africa (Somali Peninsula). The overwhelming majority of Somalis speak the Somali language, which is part of the Cushitic branch of the Afro-Asiatic family. They are predominantly Sunni Muslim. Ethnic Somalis number around 16-20 million and are principally concentrated in Somalia (around 12.3 million), Ethiopia (4.6 million), Kenya (2.4 million), and Djibouti (464,600), with many also residing in parts of the Middle East, North America and Europe.', 'question': 'What part of the Afro-Asiatic language family is Somali a part of?', 'id': '56f9f848f34c681400b0bf0c', 'answers': [{'text': 'Cushitic', 'answer_start': 198}], 'is_impossible': False}\n",
      "{'context': 'Further desertions of John\\'s local allies at the beginning of 1203 steadily reduced John\\'s freedom to manoeuvre in the region. He attempted to convince Pope Innocent III to intervene in the conflict, but Innocent\\'s efforts were unsuccessful. As the situation became worse for John, he appears to have decided to have Arthur killed, with the aim of removing his potential rival and of undermining the rebel movement in Brittany. Arthur had initially been imprisoned at Falaise and was then moved to Rouen. After this, Arthur\\'s fate remains uncertain, but modern historians believe he was murdered by John. The annals of Margam Abbey suggest that \"John had captured Arthur and kept him alive in prison for some time in the castle of Rouen ... when John was drunk he slew Arthur with his own hand and tying a heavy stone to the body cast it into the Seine.\"[nb 7] Rumours of the manner of Arthur\\'s death further reduced support for John across the region. Arthur\\'s sister, Eleanor, who had also been captured at Mirebeau, was kept imprisoned by John for many years, albeit in relatively good conditions.', 'question': 'Where was Arthur imprisoned?', 'id': '570c5572fed7b91900d458d2', 'answers': [{'text': 'Falaise', 'answer_start': 468}], 'is_impossible': False}\n",
      "{'context': 'Thomas J. Watson, Sr., fired from the National Cash Register Company by John Henry Patterson, called on Flint and, in 1914, was offered CTR. Watson joined CTR as General Manager then, 11 months later, was made President when court cases relating to his time at NCR were resolved. Having learned Patterson\\'s pioneering business practices, Watson proceeded to put the stamp of NCR onto CTR\\'s companies. He implemented sales conventions, \"generous sales incentives, a focus on customer service, an insistence on well-groomed, dark-suited salesmen and had an evangelical fervor for instilling company pride and loyalty in every worker\". His favorite slogan, \"THINK\", became a mantra for each company\\'s employees. During Watson\\'s first four years, revenues more than doubled to $9 million and the company\\'s operations expanded to Europe, South America, Asia and Australia. \"Watson had never liked the clumsy hyphenated title of the CTR\" and chose to replace it with the more expansive title \"International Business Machines\". First as a name for a 1917 Canadian subsidiary, then as a line in advertisements. For example, the McClures magazine, v53, May 1921, has a full page ad with, at the bottom:', 'question': 'What was the favorite slogan of Thomas J. Watson Sr.?', 'id': '5729baed1d046914007795d7', 'answers': [{'text': 'THINK', 'answer_start': 655}], 'is_impossible': False}\n",
      "{'context': 'The Communist Party of China, founded in 1920, adopted the red flag and hammer and sickle emblem of the Soviet Union, which became the national symbols when the Party took power in China in 1949. Under Party leader Mao Zedong, the Party anthem became \"The East Is Red\", and Mao Zedong himself was sometimes referred to as a \"red sun\". During the Cultural Revolution in China, Party ideology was enforced by the Red Guards, and the sayings of Mao Zedong were published as a small red book in hundreds of millions of copies. Today the Communist Party of China claims to be the largest political party in the world, with eighty million members.', 'plausible_answers': [{'text': 'red flag and hammer and sickle emblem of the Soviet Union,', 'answer_start': 59}], 'question': 'What flag was adopted by China in 1920?', 'id': '5ad5046f5b96ef001a10a9b7', 'answers': [], 'is_impossible': True}\n"
     ]
    }
   ],
   "source": [
    "for i in range(min(len(train_set), 10)):\n",
    "    print(train_set.data[i])\n"
   ]
  },
  {
   "cell_type": "markdown",
   "metadata": {},
   "source": [
    "## Predict"
   ]
  },
  {
   "cell_type": "code",
   "execution_count": 238,
   "metadata": {},
   "outputs": [],
   "source": [
    "#model_name = \"davinci-002\"\n",
    "model_name = \"gpt-3.5-turbo-instruct\"\n",
    "model = ModelPredictor(model_name)"
   ]
  },
  {
   "cell_type": "code",
   "execution_count": 93,
   "metadata": {},
   "outputs": [],
   "source": [
    "def extract_unknown(text):\n",
    "    if \"no answer\" in text.lower():\n",
    "        return \"\" # evaluation process wants empty string for predictions of unanswerable questions\n",
    "    else:\n",
    "        return text\n"
   ]
  },
  {
   "cell_type": "code",
   "execution_count": 94,
   "metadata": {},
   "outputs": [
    {
     "data": {
      "text/plain": [
       "'Given the following context:\\nCONTEXT: {context}\\nAnswer the following question:\\nQUESTION: {question}\\nANSWER: '"
      ]
     },
     "execution_count": 94,
     "metadata": {},
     "output_type": "execute_result"
    }
   ],
   "source": [
    "\"\"\"CONTEXT: The Normans (Norman: Nourmands; French: Normands; Latin: Normanni) were the people who in the 10th and 11th centuries gave their name to Normandy, a region in France. They were descended from Norse (\\\"Norman\\\" comes from \\\"Norseman\\\") raiders and pirates from Denmark, Iceland and Norway who, under their leader Rollo, agreed to swear fealty to King Charles III of West Francia. Through generations of assimilation and mixing with the native Frankish and Roman-Gaulish populations, their descendants would gradually merge with the Carolingian-based cultures of West Francia. The distinct cultural and ethnic identity of the Normans emerged initially in the first half of the 10th century, and it continued to evolve over the succeeding centuries.\n",
    "QUESTION: What century did the Normans first gain their separate identity?\n",
    "ANSWER(concise): 10th\n",
    "\n",
    "CONTEXT: Building construction is the process of adding structure to real property or construction of buildings. The majority of building construction jobs are small renovations, such as addition of a room, or renovation of a bathroom. Often, the owner of the property acts as laborer, paymaster, and design team for the entire project. Although building construction projects typically include various common elements, such as design, financial, estimating and legal considerations, many projects of varying sizes reach undesirable end results, such as structural collapse, cost overruns, and/or litigation. For this reason, those with experience in the field make detailed plans and maintain careful oversight during the project to ensure a positive outcome.\n",
    "QUESTION: Who acts as laborer, paymaster, and design team for a renovation project?\n",
    "ANSWER(concise): the owner\n",
    "\n",
    "CONTEXT: Pathogens can rapidly evolve and adapt, and thereby avoid detection and neutralization by the immune system; however, multiple defense mechanisms have also evolved to recognize and neutralize pathogens. Even simple unicellular organisms such as bacteria possess a rudimentary immune system, in the form of enzymes that protect against bacteriophage infections. Other basic immune mechanisms evolved in ancient eukaryotes and remain in their modern descendants, such as plants and invertebrates. These mechanisms include phagocytosis, antimicrobial peptides called defensins, and the complement system. Jawed vertebrates, including humans, have even more sophisticated defense mechanisms, including the ability to adapt over time to recognize specific pathogens more efficiently. Adaptive (or acquired) immunity creates immunological memory after an initial response to a specific pathogen, leading to an enhanced response to subsequent encounters with that same pathogen. This process of acquired immunity is the basis of vaccination.\n",
    "QUESTION: The immune systems of bacteria have enzymes that protect against infection by what kind of cells?\n",
    "ANSWER(concise): bacteriophage\n",
    "\n",
    "CONTEXT: {context}\n",
    "QUESTION: {question}\n",
    "ANSWER(concise): \"\"\" "
   ]
  },
  {
   "cell_type": "code",
   "execution_count": 189,
   "metadata": {},
   "outputs": [
    {
     "data": {
      "text/plain": [
       "([' Falaise and then Rouen.',\n",
       "  \" Sony's music publishing operations.\",\n",
       "  'The University of Houston System owns and holds broadcasting licenses for KUHT, KUHF, and KUHA. ',\n",
       "  '2nd century AD',\n",
       "  ' 200 trucks.',\n",
       "  'Birds are immune to avian influenza.',\n",
       "  ' The need for access to a large quantity of information.',\n",
       "  'Gold-alloy touch surfaces have natural intrinsic properties to destroy a wide range of microorganisms.',\n",
       "  '109 million.',\n",
       "  'Mount Oread.',\n",
       "  ' Musharraf',\n",
       "  '\\nLauryn Hill.',\n",
       "  '\\nHeavy fuel oil from the freighter MS Oliva.',\n",
       "  'The composition of mass changes into energy.',\n",
       "  'Embarrassment to the FBI.',\n",
       "  ' Rationalism, empiricism, structuralism, poststructuralism, and phenomenology.',\n",
       "  'Die casts made of ceramics and cement.',\n",
       "  '1,307,402',\n",
       "  ' The House of the Black Madonna.',\n",
       "  'At age seven or eight.',\n",
       "  ' Half of the money is divided equally between the clubs.',\n",
       "  ' The largest neutrino telescope in the world. ',\n",
       "  ' Several times a week.',\n",
       "  'Southeast.',\n",
       "  '\\nFilament size increases with decreasing voltage level.',\n",
       "  'Pseudo-Dionysius.',\n",
       "  '\\nIbn Khafaja.',\n",
       "  'No',\n",
       "  'The Suez Canal',\n",
       "  '2008',\n",
       "  'Reddit and The Verge.',\n",
       "  ' Agricultural and pastoral communities.',\n",
       "  '\\nVinyl',\n",
       "  'The submarine blockade.',\n",
       "  'Kinet',\n",
       "  '\\nAndrew Peters.',\n",
       "  'October is designated as Cyber Security Awareness Month to promote online safety and inform the public about potential cyber threats.',\n",
       "  'Large-scale raids were conducted.',\n",
       "  '\\nThomas Jefferson',\n",
       "  'time gap',\n",
       "  'Deer',\n",
       "  ' Christian theologians.',\n",
       "  '1639 or sometime before.',\n",
       "  ' Keyloggers, covert listening devices, software worms, or make operating system modifications.',\n",
       "  'Human communication.',\n",
       "  '\\nMP3 players.',\n",
       "  '3.',\n",
       "  '\\n\\nThe north side.',\n",
       "  ' Arabic loanwords',\n",
       "  '\\nMore than half.'],\n",
       " [' Falaise and then Rouen.',\n",
       "  \" Sony's music publishing operations.\",\n",
       "  'The University of Houston System owns and holds broadcasting licenses for KUHT, KUHF, and KUHA. ',\n",
       "  '2nd century AD',\n",
       "  ' 200 trucks.',\n",
       "  'Birds are immune to avian influenza.',\n",
       "  ' The need for access to a large quantity of information.',\n",
       "  'Gold-alloy touch surfaces have natural intrinsic properties to destroy a wide range of microorganisms.',\n",
       "  '109 million.',\n",
       "  'Mount Oread.',\n",
       "  ' Musharraf',\n",
       "  '\\nLauryn Hill.',\n",
       "  '\\nHeavy fuel oil from the freighter MS Oliva.',\n",
       "  'The composition of mass changes into energy.',\n",
       "  'Embarrassment to the FBI.',\n",
       "  ' Rationalism, empiricism, structuralism, poststructuralism, and phenomenology.',\n",
       "  'Die casts made of ceramics and cement.',\n",
       "  '1,307,402',\n",
       "  ' The House of the Black Madonna.',\n",
       "  'At age seven or eight.',\n",
       "  ' Half of the money is divided equally between the clubs.',\n",
       "  ' The largest neutrino telescope in the world. ',\n",
       "  ' Several times a week.',\n",
       "  'Southeast.',\n",
       "  '\\nFilament size increases with decreasing voltage level.',\n",
       "  'Pseudo-Dionysius.',\n",
       "  '\\nIbn Khafaja.',\n",
       "  'No',\n",
       "  'The Suez Canal',\n",
       "  '2008',\n",
       "  'Reddit and The Verge.',\n",
       "  ' Agricultural and pastoral communities.',\n",
       "  '\\nVinyl',\n",
       "  'The submarine blockade.',\n",
       "  'Kinet',\n",
       "  '\\nAndrew Peters.',\n",
       "  'October is designated as Cyber Security Awareness Month to promote online safety and inform the public about potential cyber threats.',\n",
       "  'Large-scale raids were conducted.',\n",
       "  '\\nThomas Jefferson',\n",
       "  'time gap',\n",
       "  'Deer',\n",
       "  ' Christian theologians.',\n",
       "  '1639 or sometime before.',\n",
       "  ' Keyloggers, covert listening devices, software worms, or make operating system modifications.',\n",
       "  'Human communication.',\n",
       "  '\\nMP3 players.',\n",
       "  '3.',\n",
       "  '\\n\\nThe north side.',\n",
       "  ' Arabic loanwords',\n",
       "  '\\nMore than half.'])"
      ]
     },
     "execution_count": 189,
     "metadata": {},
     "output_type": "execute_result"
    }
   ],
   "source": [
    "prompt_template = \"\"\"CONTEXT: {context}\n",
    "QUESTION: {question}\n",
    "ANSWER(concise): \"\"\" \n",
    "\n",
    "results_generate, original_preds = model.generate(\n",
    "    dataset=train_set,\n",
    "    prompt_template=prompt_template,\n",
    "    extract_function=lambda text: text, #extract_unknown, \n",
    "    num_samples=1,\n",
    "    max_tokens=50,\n",
    ")\n",
    "results_generate, original_preds"
   ]
  },
  {
   "cell_type": "code",
   "execution_count": 105,
   "metadata": {},
   "outputs": [],
   "source": [
    "\"\"\"CONTEXT: The Normans (Norman: Nourmands; French: Normands; Latin: Normanni) were the people who in the 10th and 11th centuries gave their name to Normandy, a region in France. They were descended from Norse (\\\"Norman\\\" comes from \\\"Norseman\\\") raiders and pirates from Denmark, Iceland and Norway who, under their leader Rollo, agreed to swear fealty to King Charles III of West Francia. Through generations of assimilation and mixing with the native Frankish and Roman-Gaulish populations, their descendants would gradually merge with the Carolingian-based cultures of West Francia. The distinct cultural and ethnic identity of the Normans emerged initially in the first half of the 10th century, and it continued to evolve over the succeeding centuries.\n",
    "QUESTION: What century did the Normans first gain their separate identity?\n",
    "Is the answer to the QUESTION available in the CONTEXT?\n",
    "ANSWER(yes/no): yes\n",
    "\n",
    "CONTEXT: Building construction is the process of adding structure to real property or construction of buildings. The majority of building construction jobs are small renovations, such as addition of a room, or renovation of a bathroom. Often, the owner of the property acts as laborer, paymaster, and design team for the entire project. Although building construction projects typically include various common elements, such as design, financial, estimating and legal considerations, many projects of varying sizes reach undesirable end results, such as structural collapse, cost overruns, and/or litigation. For this reason, those with experience in the field make detailed plans and maintain careful oversight during the project to ensure a positive outcome.\n",
    "QUESTION: What are some examples of legal considerations for an addition?\n",
    "Is the answer to the QUESTION available in the CONTEXT?\n",
    "ANSWER(yes/no): no\n",
    "\n",
    "CONTEXT: Pathogens can rapidly evolve and adapt, and thereby avoid detection and neutralization by the immune system; however, multiple defense mechanisms have also evolved to recognize and neutralize pathogens. Even simple unicellular organisms such as bacteria possess a rudimentary immune system, in the form of enzymes that protect against bacteriophage infections. Other basic immune mechanisms evolved in ancient eukaryotes and remain in their modern descendants, such as plants and invertebrates. These mechanisms include phagocytosis, antimicrobial peptides called defensins, and the complement system. Jawed vertebrates, including humans, have even more sophisticated defense mechanisms, including the ability to adapt over time to recognize specific pathogens more efficiently. Adaptive (or acquired) immunity creates immunological memory after an initial response to a specific pathogen, leading to an enhanced response to subsequent encounters with that same pathogen. This process of acquired immunity is the basis of vaccination.\n",
    "QUESTION: The immune systems of bacteria have enzymes that protect against infection by what kind of cells?\n",
    "Is the answer to the QUESTION available in the CONTEXT?\n",
    "ANSWER(yes/no): yes\n",
    "\n",
    "CONTEXT: {context}\n",
    "QUESTION: {question}\n",
    "Is the answer to the QUESTION available in the CONTEXT?\n",
    "ANSWER(yes/no): \"\"\" "
   ]
  },
  {
   "cell_type": "code",
   "execution_count": 245,
   "metadata": {},
   "outputs": [],
   "source": [
    "def extract_yes_or_no(text):\n",
    "    if \"yes\" in text.lower():\n",
    "        return \"Yes\"\n",
    "    elif \"no\" in text.lower():\n",
    "        return \"No\"\n",
    "    else:\n",
    "        return None\n",
    "\n",
    "classify_with_generation_template = \"\"\"CONTEXT: The Normans (Norman: Nourmands; French: Normands; Latin: Normanni) were the people who in the 10th and 11th centuries gave their name to Normandy, a region in France. They were descended from Norse (\\\"Norman\\\" comes from \\\"Norseman\\\") raiders and pirates from Denmark, Iceland and Norway who, under their leader Rollo, agreed to swear fealty to King Charles III of West Francia. Through generations of assimilation and mixing with the native Frankish and Roman-Gaulish populations, their descendants would gradually merge with the Carolingian-based cultures of West Francia. The distinct cultural and ethnic identity of the Normans emerged initially in the first half of the 10th century, and it continued to evolve over the succeeding centuries.\n",
    "QUESTION: What century did the Normans first gain their separate identity?\n",
    "Is the answer to the QUESTION available in the CONTEXT?\n",
    "ANSWER(yes/no): yes\n",
    "\n",
    "CONTEXT: Building construction is the process of adding structure to real property or construction of buildings. The majority of building construction jobs are small renovations, such as addition of a room, or renovation of a bathroom. Often, the owner of the property acts as laborer, paymaster, and design team for the entire project. Although building construction projects typically include various common elements, such as design, financial, estimating and legal considerations, many projects of varying sizes reach undesirable end results, such as structural collapse, cost overruns, and/or litigation. For this reason, those with experience in the field make detailed plans and maintain careful oversight during the project to ensure a positive outcome.\n",
    "QUESTION: What are some examples of legal considerations for an addition?\n",
    "Is the answer to the QUESTION available in the CONTEXT?\n",
    "ANSWER(yes/no): no\n",
    "\n",
    "CONTEXT: Pathogens can rapidly evolve and adapt, and thereby avoid detection and neutralization by the immune system; however, multiple defense mechanisms have also evolved to recognize and neutralize pathogens. Even simple unicellular organisms such as bacteria possess a rudimentary immune system, in the form of enzymes that protect against bacteriophage infections. Other basic immune mechanisms evolved in ancient eukaryotes and remain in their modern descendants, such as plants and invertebrates. These mechanisms include phagocytosis, antimicrobial peptides called defensins, and the complement system. Jawed vertebrates, including humans, have even more sophisticated defense mechanisms, including the ability to adapt over time to recognize specific pathogens more efficiently. Adaptive (or acquired) immunity creates immunological memory after an initial response to a specific pathogen, leading to an enhanced response to subsequent encounters with that same pathogen. This process of acquired immunity is the basis of vaccination.\n",
    "QUESTION: The immune systems of bacteria have enzymes that protect against infection by what kind of cells?\n",
    "Is the answer to the QUESTION available in the CONTEXT?\n",
    "ANSWER(yes/no): yes\n",
    "\n",
    "CONTEXT: {context}\n",
    "QUESTION: {question}\n",
    "Is the answer to the QUESTION available in the CONTEXT?\n",
    "ANSWER(yes/no): \"\"\" \n",
    "\n",
    "results_classify, original_preds_class = model.generate(\n",
    "    dataset=train_set,\n",
    "    prompt_template=classify_with_generation_template,\n",
    "    extract_function=extract_yes_or_no, \n",
    "    num_samples=1,\n",
    "    max_tokens=5,\n",
    ")\n",
    "results_classify, original_preds_class"
   ]
  },
  {
   "cell_type": "markdown",
   "metadata": {},
   "source": [
    "## Eval"
   ]
  },
  {
   "cell_type": "code",
   "execution_count": 39,
   "metadata": {},
   "outputs": [],
   "source": [
    "#list(train_set.get_column(\"answers\")), results_generate, results_classify"
   ]
  },
  {
   "cell_type": "code",
   "execution_count": 175,
   "metadata": {},
   "outputs": [],
   "source": [
    "def save_results(prompt, exact_score, f1_score, model_name, percent_types,full_results=False):\n",
    "    with open(\"results/results_squad.txt\", \"a\") as f:\n",
    "        prepared_prompt = prompt.replace(\"\\n\", r\"\\n\")\n",
    "        f.write(f\"{percent_types}\\t{exact_score}\\t{f1_score}\\t{model_name}\\t{full_results}\\t{prepared_prompt}\\n\")"
   ]
  },
  {
   "cell_type": "code",
   "execution_count": 120,
   "metadata": {},
   "outputs": [],
   "source": [
    "# def load_results():\n",
    "#     with open(\"results/results_squad.txt\", \"r\") as f:\n",
    "#         lines = f.readlines()\n",
    "#         lines = [line.strip() for line in lines]\n",
    "#         results = [line.split(\"\\t\") for line in lines]\n",
    "#         return results\n",
    "# results_squad = load_results()\n",
    "\n",
    "# mod_res = [res[1:] + (['False'] if len(res)==4 else []) + [res[0] + \"\\n\"] for res in results_squad]\n",
    "# mod_res\n",
    "\n",
    "# # save mod_res to file\n",
    "# with open(\"results/results_squad.txt\", \"w\") as f:\n",
    "#     for res in mod_res:\n",
    "#         f.write(\"\\t\".join(res))"
   ]
  },
  {
   "cell_type": "code",
   "execution_count": 190,
   "metadata": {},
   "outputs": [
    {
     "name": "stdout",
     "output_type": "stream",
     "text": [
      "Exact score: 0.28\n",
      "F1 score: 0.37196336996337\n"
     ]
    }
   ],
   "source": [
    "import evaluation.squad_eval as squad_eval_module\n",
    "reload(squad_eval_module)\n",
    "from evaluation.squad_eval import get_raw_scores_mod\n",
    "\n",
    "preds = dict(zip(train_set.get_column(\"id\"), results_generate))\n",
    "raws_scores, f1_scores = get_raw_scores_mod(train_set, preds)\n",
    "\n",
    "exact_score = sum(raws_scores.values()) / len(raws_scores)\n",
    "f1_score = sum(f1_scores.values()) / len(f1_scores)\n",
    "print(\"Exact score:\", exact_score)\n",
    "print(\"F1 score:\", f1_score)\n",
    "save_results(\n",
    "    prompt_template,\n",
    "    exact_score,\n",
    "    f1_score,\n",
    "    model_name,\n",
    "    percent_types,\n",
    "    full_results=full_evaluation,\n",
    ")"
   ]
  },
  {
   "cell_type": "code",
   "execution_count": 157,
   "metadata": {},
   "outputs": [
    {
     "data": {
      "text/plain": [
       "(['Yes',\n",
       "  'Yes',\n",
       "  'Yes',\n",
       "  'Yes',\n",
       "  'No',\n",
       "  'Yes',\n",
       "  'No',\n",
       "  'Yes',\n",
       "  'Yes',\n",
       "  None,\n",
       "  'Yes',\n",
       "  'No',\n",
       "  'Yes',\n",
       "  'Yes',\n",
       "  'Yes',\n",
       "  'Yes',\n",
       "  'Yes',\n",
       "  'Yes',\n",
       "  'Yes',\n",
       "  'Yes',\n",
       "  'Yes',\n",
       "  'Yes',\n",
       "  'Yes',\n",
       "  'Yes',\n",
       "  'Yes',\n",
       "  'Yes',\n",
       "  'Yes',\n",
       "  'No',\n",
       "  'Yes',\n",
       "  'Yes',\n",
       "  'No',\n",
       "  'Yes',\n",
       "  'Yes',\n",
       "  'Yes',\n",
       "  'Yes',\n",
       "  'Yes',\n",
       "  'Yes',\n",
       "  'Yes',\n",
       "  'Yes',\n",
       "  'Yes',\n",
       "  'Yes',\n",
       "  'Yes',\n",
       "  'Yes',\n",
       "  'Yes',\n",
       "  'Yes',\n",
       "  'Yes',\n",
       "  'Yes',\n",
       "  'Yes',\n",
       "  'Yes',\n",
       "  'Yes'],\n",
       " ['Yes',\n",
       "  'Yes',\n",
       "  'Yes',\n",
       "  'Yes',\n",
       "  'Yes',\n",
       "  'Yes',\n",
       "  'Yes',\n",
       "  'Yes',\n",
       "  'Yes',\n",
       "  'Yes',\n",
       "  'Yes',\n",
       "  'Yes',\n",
       "  'Yes',\n",
       "  'Yes',\n",
       "  'Yes',\n",
       "  'Yes',\n",
       "  'Yes',\n",
       "  'Yes',\n",
       "  'Yes',\n",
       "  'Yes',\n",
       "  'Yes',\n",
       "  'Yes',\n",
       "  'Yes',\n",
       "  'Yes',\n",
       "  'Yes',\n",
       "  'Yes',\n",
       "  'Yes',\n",
       "  'Yes',\n",
       "  'Yes',\n",
       "  'Yes',\n",
       "  'Yes',\n",
       "  'Yes',\n",
       "  'Yes',\n",
       "  'Yes',\n",
       "  'Yes',\n",
       "  'Yes',\n",
       "  'Yes',\n",
       "  'Yes',\n",
       "  'Yes',\n",
       "  'Yes',\n",
       "  'Yes',\n",
       "  'Yes',\n",
       "  'Yes',\n",
       "  'Yes',\n",
       "  'Yes',\n",
       "  'Yes',\n",
       "  'Yes',\n",
       "  'Yes',\n",
       "  'Yes',\n",
       "  'Yes'])"
      ]
     },
     "execution_count": 157,
     "metadata": {},
     "output_type": "execute_result"
    }
   ],
   "source": [
    "to_choice_mapping = {\n",
    "    True: \"No\", # true is_impossible\n",
    "    False: \"Yes\", # false is_impossible\n",
    "}\n",
    "results_classify, list(train_set.get_type(to_choice_mapping))"
   ]
  },
  {
   "cell_type": "code",
   "execution_count": 231,
   "metadata": {},
   "outputs": [],
   "source": [
    "import numpy as np\n",
    "from typing import List, Dict\n",
    "\n",
    "def get_binary_confusion_matrix(\n",
    "    labels: List[str],\n",
    "    predictions: List[str],\n",
    ") -> Dict[str, Dict[str, int]]:\n",
    "    labels = np.array(labels)\n",
    "    predictions = np.array(predictions)\n",
    "    tp = (labels == predictions) & (labels == \"Yes\")\n",
    "    fp = (labels != predictions) & (predictions == \"Yes\")\n",
    "    tn = (labels == predictions) & (labels == \"No\")\n",
    "    fn = (labels != predictions) & (predictions == \"No\")\n",
    "    return {\n",
    "        \"tp\": int(sum(tp)),\n",
    "        \"fp\": int(sum(fp)),\n",
    "        \"tn\": int(sum(tn)),\n",
    "        \"fn\": int(sum(fn)),\n",
    "    }\n",
    "    "
   ]
  },
  {
   "cell_type": "code",
   "execution_count": null,
   "metadata": {},
   "outputs": [
    {
     "name": "stdout",
     "output_type": "stream",
     "text": [
      "{'tp': 22, 'fp': 16, 'tn': 8, 'fn': 4}\n",
      "0.6\n"
     ]
    }
   ],
   "source": [
    "import json\n",
    "\n",
    "correct, accuracy =evaluate_classification(\n",
    "    train_set,\n",
    "    results_classify,  # type: ignore\n",
    "    to_choice_mapping=to_choice_mapping,\n",
    ")\n",
    "confussion_matrix = get_binary_confusion_matrix(list(train_set.get_type(to_choice_mapping)), results_classify) \n",
    "print(confussion_matrix )\n",
    "print(accuracy)\n",
    "\n",
    "save_results(\n",
    "    classify_with_generation_template,\n",
    "    accuracy,\n",
    "    json.dumps(confussion_matrix),\n",
    "    model_name,\n",
    "    percent_types,\n",
    "    full_results=full_evaluation,\n",
    ")"
   ]
  },
  {
   "cell_type": "code",
   "execution_count": 199,
   "metadata": {},
   "outputs": [
    {
     "data": {
      "text/plain": [
       "(array([[1., 0.],\n",
       "        [0., 2.],\n",
       "        [1., 1.]]),\n",
       " 0)"
      ]
     },
     "execution_count": 199,
     "metadata": {},
     "output_type": "execute_result"
    }
   ],
   "source": [
    "get_confusion_matrix(\n",
    "    predict=[\"unknown\", \"10\", \"11\", \"9\", \"unknown\"],\n",
    "    original=[\"unknown\", \"9\", \"11\", \"unknown\", \"unknown\"],\n",
    "    unknown_value = \"unknown\"\n",
    ")"
   ]
  }
 ],
 "metadata": {
  "kernelspec": {
   "display_name": "llms-project",
   "language": "python",
   "name": "python3"
  },
  "language_info": {
   "codemirror_mode": {
    "name": "ipython",
    "version": 3
   },
   "file_extension": ".py",
   "mimetype": "text/x-python",
   "name": "python",
   "nbconvert_exporter": "python",
   "pygments_lexer": "ipython3",
   "version": "3.9.18"
  }
 },
 "nbformat": 4,
 "nbformat_minor": 2
}
