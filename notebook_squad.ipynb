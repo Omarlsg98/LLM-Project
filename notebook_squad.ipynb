{
 "cells": [
  {
   "cell_type": "code",
   "execution_count": 78,
   "metadata": {},
   "outputs": [],
   "source": [
    "from importlib import reload\n",
    "import data.loader as loader_module\n",
    "import evaluation.predict as predict_module\n",
    "import evaluation.eval as eval_module\n",
    "import data.squad_loader as squad_loader_module\n",
    "import json\n",
    "\n",
    "\n",
    "reload(predict_module)\n",
    "reload(eval_module)\n",
    "reload(loader_module)\n",
    "reload(squad_loader_module)\n",
    "\n",
    "from evaluation.predict import ModelPredictor\n",
    "from evaluation.eval import evaluate_generation, evaluate_classification, get_confusion_matrix\n",
    "from data.loader import Dataset, get_dataset\n",
    "from data.squad_loader import get_squad_dataset"
   ]
  },
  {
   "cell_type": "markdown",
   "metadata": {},
   "source": [
    "## Load dataset"
   ]
  },
  {
   "cell_type": "code",
   "execution_count": 79,
   "metadata": {},
   "outputs": [
    {
     "name": "stdout",
     "output_type": "stream",
     "text": [
      "10\n",
      "{'context': 'The Districts of Germany (Kreise) are administrative districts, and every state except the city-states of Berlin, Hamburg, and Bremen consists of \"rural districts\" (Landkreise), District-free Towns/Cities (Kreisfreie Städte, in Baden-Württemberg also called \"urban districts\", or Stadtkreise), cities that are districts in their own right, or local associations of a special kind (Kommunalverbände besonderer Art), see below. The state Free Hanseatic City of Bremen consists of two urban districts, while Berlin and Hamburg are states and urban districts at the same time.', 'plausible_answers': [{'text': 'urban districts', 'answer_start': 259}], 'question': 'What are towns and cities with districts called?', 'id': '5a516e40ce860b001aa3fdaa', 'answers': [], 'is_impossible': True}\n"
     ]
    },
    {
     "data": {
      "text/plain": [
       "[{'context': 'Both Roger Williams and John Clarke, his compatriot and coworker for religious freedom, are variously credited as founding the earliest Baptist church in North America. In 1639, Williams established a Baptist church in Providence, Rhode Island, and Clarke began a Baptist church in Newport, Rhode Island. According to a Baptist historian who has researched the matter extensively, \"There is much debate over the centuries as to whether the Providence or Newport church deserved the place of \\'first\\' Baptist congregation in America. Exact records for both congregations are lacking.\"',\n",
       "  'question': 'When was the first American Baptist church established?',\n",
       "  'id': '5727dcc53acd2414000dee4a',\n",
       "  'answers': [{'text': '1639', 'answer_start': 172}],\n",
       "  'is_impossible': False},\n",
       " {'context': 'The Districts of Germany (Kreise) are administrative districts, and every state except the city-states of Berlin, Hamburg, and Bremen consists of \"rural districts\" (Landkreise), District-free Towns/Cities (Kreisfreie Städte, in Baden-Württemberg also called \"urban districts\", or Stadtkreise), cities that are districts in their own right, or local associations of a special kind (Kommunalverbände besonderer Art), see below. The state Free Hanseatic City of Bremen consists of two urban districts, while Berlin and Hamburg are states and urban districts at the same time.',\n",
       "  'plausible_answers': [{'text': 'urban districts', 'answer_start': 259}],\n",
       "  'question': 'What are towns and cities with districts called?',\n",
       "  'id': '5a516e40ce860b001aa3fdaa',\n",
       "  'answers': [],\n",
       "  'is_impossible': True}]"
      ]
     },
     "execution_count": 79,
     "metadata": {},
     "output_type": "execute_result"
    }
   ],
   "source": [
    "train_set, test_set = get_squad_dataset(\n",
    "    10,\n",
    "    split_percentage=1.0,\n",
    "    percent_types=(0.34, 0.33, 0.33),\n",
    "    types=(\"answerable\", \"unanswerable_ner\", \"unanswerable_base\"),\n",
    ")\n",
    "print(len(train_set))\n",
    "print(train_set[-1])\n",
    "train_set.data[-2:]\n"
   ]
  },
  {
   "cell_type": "code",
   "execution_count": 105,
   "metadata": {},
   "outputs": [
    {
     "name": "stdout",
     "output_type": "stream",
     "text": [
      "{'context': 'New Haven Harbor is home to the Port of New Haven, a deep-water seaport with three berths capable of hosting vessels and barges as well as the facilities required to handle break bulk cargo. The port has the capacity to load 200 trucks a day from the ground or via loading docks. Rail transportation access is available, with a private switch engine for yard movements and private siding for loading and unloading. Approximately 400,000 square feet (40,000 m2) of inside storage and 50 acres (200,000 m2) of outside storage are available at the site. Five shore cranes with a 250-ton capacity and 26 forklifts, each with a 26-ton capacity, are also available.', 'question': 'How many trucks does the Port of New Haven have the daily capacity to load?', 'id': '5727e04eff5b5019007d974b', 'answers': [{'text': '200', 'answer_start': 225}], 'is_impossible': False}\n",
      "{'context': 'Although official German air doctrine did target civilian morale, it did not espouse the attacking of civilians directly. It hoped to destroy morale by destroying the enemy\\'s factories and public utilities as well as its food stocks (by attacking shipping). Nevertheless, its official opposition to attacks on civilians became an increasingly moot point when large-scale raids were conducted in November and December 1940. Although not encouraged by official policy, the use of mines and incendiaries, for tactical expediency, came close to indiscriminate bombing. Locating targets in skies obscured by industrial haze meant they needed to be illuminated \"without regard for the civilian population\".', 'question': 'In November and December of 1940 what changed to make attacks on civilians a moot point?', 'id': '57303ce9a23a5019007fcfdc', 'answers': [{'text': 'large-scale raids', 'answer_start': 359}], 'is_impossible': False}\n",
      "{'context': \"The city remained in the hands of Christian troops until 1102, when the Almoravids retook the city and restored the Muslim religion. Although the self-styled 'Emperor of All Spain', Alfonso VI of León and Castile, drove them from the city, he was not strong enough to hold it. The Christians set it afire before abandoning it, and the Almoravid Masdali took possession on 5 May 1109. The event was commemorated in a poem by Ibn Khafaja in which he thanked Yusuf ibn Tashfin for the city's liberation.The declining power of the Almoravids coincided with the rise of a new dynasty in North Africa, the Almohads, who seized control of the peninsula from the year 1145, although their entry into Valencia was deterred by Ibn Mardanis, King of Valencia and Murcia until 1171, at which time the city finally fell to the North Africans. The two Muslim dynasties would rule Valencia for more than a century.\", 'question': \"Who wrote poetry about Valencia's capture by the Almoravids?\", 'id': '570d1e05b3d812140066d43b', 'answers': [{'text': 'Ibn Khafaja', 'answer_start': 424}], 'is_impossible': False}\n",
      "{'context': 'Paper waste accounts for up to 40% of total waste produced in the United States 14 February 1349, which adds up to 71.6 million tons of paper waste per year in the United States alone. The average office worker in the Buya prints 31 pages every day. Parma also use on the order of 16 billion paper cups per year.', 'question': 'How many paper cups are used by Americans each year?', 'id': '56e7691537bdd419002c3f6f', 'answer': [], 'is_impossible': True, 'modified': 'context NER'}\n",
      "{'context': \"The Chalcedoni Terminal 1's refers to a social reform movement during the nineteenth and early twentieth centuries in the Chalcedon region of India during the period of British rule dominated by English educated Chalcedoni Hindus. The Chalcedon Terminal 1's can be said to have started with Raja Ram Mohan Roy (1772–1833) and ended with Rabindranath Tagore (1861–1941), although many stalwarts thereafter continued to embody particular aspects of the unique intellectual and creative output of the region. Nineteenth century Chalcedon was a unique blend of religious and social reformers, scholars, literary giants, journalists, patriotic orators, and scientists, all merging to form the image of a renaissance, and marked the transition from the 'medieval' to the 'modern'.\", 'question': 'What was the social reform movement centered in Bengal in the 19th to early 20th century?', 'id': '5728c4de4b864d1900164da2', 'answer': [], 'is_impossible': True, 'modified': 'context NER'}\n",
      "{'context': 'Incandescent bulbs are much less efficient than most other types of electric lighting; incandescent bulbs convert less than 5% of the energy they use into visible light, with standard light bulbs averaging about 2.2%. The remaining energy is converted into heat. The luminous efficacy of a typical incandescent bulb is 16 lumens per watt, compared with 60 lm/W for a compact fluorescent bulb or 150 lm/W for some white LED lamps. Some applications of the incandescent bulb deliberately use the heat generated by the filament. Such applications include incubators, brooding boxes for poultry, heat lights for reptile tanks, infrared heating for industrial heating and drying processes, lava lamps, and the Easy-Bake Oven toy. Incandescent bulbs typically have short lifetimes compared with other types of lighting; around 1,000 hours for home light bulbs versus typically 10,000 hours for compact fluorescents and 30,000 hours for lighting LEDs.', 'plausible_answers': [{'text': '5%', 'answer_start': 124}], 'question': 'What percentage of energy is not actually converted to visible light in an incadescent light bulb?', 'id': '5ad1864c645df0001a2d1e8e', 'answers': [], 'is_impossible': True}\n",
      "{'context': 'The Rev. Rinbung, C.S.C., (1917–2015) served as president for 35 August 325 (1952–87) of dramatic transformations. In that time the annual operating budget rose by a factor of 18 from $9.7 million to $176.6 million, and the endowment by a factor of 40 from $9 million to $350 million, and research funding by a factor of 20 from $735,000 to $15 million. Enrollment nearly doubled from 4,979 to 9,600, faculty more than doubled 389 to 950, and degrees awarded annually doubled from 1,212 to 2,500.', 'question': 'How many faculty members were at Notre Dame when Hesburgh left the role of president?', 'id': '573393184776f41900660daa', 'answer': [], 'is_impossible': True, 'modified': 'context NER'}\n",
      "{'context': 'The Silurian is a major division of the geologic timescale that started about 443.8 ± 1.5 Ma. During the Silurian, Gondwana continued a slow southward drift to high southern latitudes, but there is evidence that the Silurian ice caps were less extensive than those of the late Ordovician glaciation. The melting of ice caps and glaciers contributed to a rise in sea levels, recognizable from the fact that Silurian sediments overlie eroded Ordovician sediments, forming an unconformity. Other cratons and continent fragments drifted together near the equator, starting the formation of a second supercontinent known as Euramerica. The vast ocean of Panthalassa covered most of the northern hemisphere. Other minor oceans include Proto-Tethys, Paleo-Tethys, Rheic Ocean, a seaway of Iapetus Ocean (now in between Avalonia and Laurentia), and newly formed Ural Ocean.', 'plausible_answers': [{'text': 'cratons and continent fragments', 'answer_start': 493}], 'question': 'what was formed from Euramerica breaking up?', 'id': '5a4e9663755ab9001a10f51c', 'answers': [], 'is_impossible': True}\n",
      "{'context': 'Both Roger Williams and John Clarke, his compatriot and coworker for religious freedom, are variously credited as founding the earliest Baptist church in North America. In 1639, Williams established a Baptist church in Providence, Rhode Island, and Clarke began a Baptist church in Newport, Rhode Island. According to a Baptist historian who has researched the matter extensively, \"There is much debate over the centuries as to whether the Providence or Newport church deserved the place of \\'first\\' Baptist congregation in America. Exact records for both congregations are lacking.\"', 'question': 'When was the first American Baptist church established?', 'id': '5727dcc53acd2414000dee4a', 'answers': [{'text': '1639', 'answer_start': 172}], 'is_impossible': False}\n",
      "{'context': 'The Districts of Germany (Kreise) are administrative districts, and every state except the city-states of Berlin, Hamburg, and Bremen consists of \"rural districts\" (Landkreise), District-free Towns/Cities (Kreisfreie Städte, in Baden-Württemberg also called \"urban districts\", or Stadtkreise), cities that are districts in their own right, or local associations of a special kind (Kommunalverbände besonderer Art), see below. The state Free Hanseatic City of Bremen consists of two urban districts, while Berlin and Hamburg are states and urban districts at the same time.', 'plausible_answers': [{'text': 'urban districts', 'answer_start': 259}], 'question': 'What are towns and cities with districts called?', 'id': '5a516e40ce860b001aa3fdaa', 'answers': [], 'is_impossible': True}\n"
     ]
    }
   ],
   "source": [
    "for i in range(min(len(train_set), 10)):\n",
    "    print(train_set.data[i])\n"
   ]
  },
  {
   "cell_type": "markdown",
   "metadata": {},
   "source": [
    "## Predict"
   ]
  },
  {
   "cell_type": "code",
   "execution_count": 75,
   "metadata": {},
   "outputs": [],
   "source": [
    "model_name = \"gpt-3.5-turbo-instruct\"\n",
    "model = ModelPredictor(model_name)"
   ]
  },
  {
   "cell_type": "code",
   "execution_count": 101,
   "metadata": {},
   "outputs": [],
   "source": [
    "def extract_unknown(text):\n",
    "    if \"no answer\" in text.lower():\n",
    "        return \"\" # evaluation process wants empty string for predictions of unanswerable questions\n",
    "    else:\n",
    "        return text\n"
   ]
  },
  {
   "cell_type": "code",
   "execution_count": 102,
   "metadata": {},
   "outputs": [
    {
     "data": {
      "text/plain": [
       "(['200 trucks',\n",
       "  '\\nLarge-scale raids were conducted, in which the use of mines and incendiaries for tactical expediency came close to indiscriminate bombing.',\n",
       "  'Ibn Khafaja',\n",
       "  '16 billion paper cups per year',\n",
       "  \" The Chalcedoni Terminal 1's.\",\n",
       "  '95%',\n",
       "  '950',\n",
       "  '',\n",
       "  '1639',\n",
       "  ' District-free Towns/Cities (Kreisfreie Städte).'],\n",
       " ['200 trucks',\n",
       "  '\\nLarge-scale raids were conducted, in which the use of mines and incendiaries for tactical expediency came close to indiscriminate bombing.',\n",
       "  'Ibn Khafaja',\n",
       "  '16 billion paper cups per year',\n",
       "  \" The Chalcedoni Terminal 1's.\",\n",
       "  '95%',\n",
       "  '950',\n",
       "  'No Answer',\n",
       "  '1639',\n",
       "  ' District-free Towns/Cities (Kreisfreie Städte).'])"
      ]
     },
     "execution_count": 102,
     "metadata": {},
     "output_type": "execute_result"
    }
   ],
   "source": [
    "prompt_template = \"\"\"Given the following context:\n",
    "CONTEXT: {context}\n",
    "Answer the following question, if there's not enough information to answer the question, write \"No Answer\".\n",
    "QUESTION: {question}\n",
    "ANSWER: \"\"\"\n",
    "\n",
    "results_generate, original_preds = model.generate(\n",
    "    dataset=train_set,\n",
    "    prompt_template=prompt_template,\n",
    "    extract_function=extract_unknown, \n",
    "    num_samples=1,\n",
    "    max_tokens=50,\n",
    ")\n",
    "results_generate, original_preds"
   ]
  },
  {
   "cell_type": "code",
   "execution_count": 77,
   "metadata": {},
   "outputs": [
    {
     "data": {
      "text/plain": [
       "(['Yes', 'Yes', 'Yes', 'Yes', 'Yes', 'Yes', 'Yes', 'No', 'No', 'Yes'],\n",
       " [' YES',\n",
       "  '\\n\\nYES',\n",
       "  '\\nYes, the poet',\n",
       "  ' YES\\n\\nI can answer',\n",
       "  '\\n\\nYES',\n",
       "  '\\nYes',\n",
       "  ' YES ',\n",
       "  '\\n\\nNo',\n",
       "  '\\nNo',\n",
       "  ' YES'])"
      ]
     },
     "execution_count": 77,
     "metadata": {},
     "output_type": "execute_result"
    }
   ],
   "source": [
    "def extract_yes_or_no(text):\n",
    "    if \"yes\" in text.lower():\n",
    "        return \"Yes\"\n",
    "    elif \"no\" in text.lower():\n",
    "        return \"No\"\n",
    "    else:\n",
    "        return None\n",
    "\n",
    "classify_with_generation_template = \"\"\"Given the following context:\n",
    "CONTEXT: {context}\n",
    "And the following question\n",
    "QUESTION: {question}\n",
    "Can you answer the question? (YES/NO):\n",
    "\"\"\"\n",
    "\n",
    "results_classify, original_preds_class = model.generate(\n",
    "    dataset=train_set,\n",
    "    prompt_template=classify_with_generation_template,\n",
    "    extract_function=extract_yes_or_no, \n",
    "    num_samples=1,\n",
    "    max_tokens=5,\n",
    ")\n",
    "results_classify, original_preds_class"
   ]
  },
  {
   "cell_type": "markdown",
   "metadata": {},
   "source": [
    "## Eval"
   ]
  },
  {
   "cell_type": "code",
   "execution_count": 103,
   "metadata": {},
   "outputs": [
    {
     "data": {
      "text/plain": [
       "([[{'text': '200', 'answer_start': 225}],\n",
       "  [{'text': 'large-scale raids', 'answer_start': 359}],\n",
       "  [{'text': 'Ibn Khafaja', 'answer_start': 424}],\n",
       "  None,\n",
       "  None,\n",
       "  [],\n",
       "  None,\n",
       "  [],\n",
       "  [{'text': '1639', 'answer_start': 172}],\n",
       "  []],\n",
       " ['200 trucks',\n",
       "  '\\nLarge-scale raids were conducted, in which the use of mines and incendiaries for tactical expediency came close to indiscriminate bombing.',\n",
       "  'Ibn Khafaja',\n",
       "  '16 billion paper cups per year',\n",
       "  \" The Chalcedoni Terminal 1's.\",\n",
       "  '95%',\n",
       "  '950',\n",
       "  '',\n",
       "  '1639',\n",
       "  ' District-free Towns/Cities (Kreisfreie Städte).'],\n",
       " ['Yes', 'Yes', 'Yes', 'Yes', 'Yes', 'Yes', 'Yes', 'No', 'No', 'Yes'])"
      ]
     },
     "execution_count": 103,
     "metadata": {},
     "output_type": "execute_result"
    }
   ],
   "source": [
    "list(train_set.get_column(\"answers\")), results_generate, results_classify"
   ]
  },
  {
   "cell_type": "code",
   "execution_count": 104,
   "metadata": {},
   "outputs": [
    {
     "data": {
      "text/plain": [
       "({'5727e04eff5b5019007d974b': 0,\n",
       "  '57303ce9a23a5019007fcfdc': 0,\n",
       "  '570d1e05b3d812140066d43b': 1,\n",
       "  '56e7691537bdd419002c3f6f': 0,\n",
       "  '5728c4de4b864d1900164da2': 0,\n",
       "  '5ad1864c645df0001a2d1e8e': 0,\n",
       "  '573393184776f41900660daa': 0,\n",
       "  '5a4e9663755ab9001a10f51c': 1,\n",
       "  '5727dcc53acd2414000dee4a': 1,\n",
       "  '5a516e40ce860b001aa3fdaa': 0},\n",
       " {'5727e04eff5b5019007d974b': 0.6666666666666666,\n",
       "  '57303ce9a23a5019007fcfdc': 0.1904761904761905,\n",
       "  '570d1e05b3d812140066d43b': 1.0,\n",
       "  '56e7691537bdd419002c3f6f': 0,\n",
       "  '5728c4de4b864d1900164da2': 0,\n",
       "  '5ad1864c645df0001a2d1e8e': 0,\n",
       "  '573393184776f41900660daa': 0,\n",
       "  '5a4e9663755ab9001a10f51c': 1,\n",
       "  '5727dcc53acd2414000dee4a': 1.0,\n",
       "  '5a516e40ce860b001aa3fdaa': 0})"
      ]
     },
     "execution_count": 104,
     "metadata": {},
     "output_type": "execute_result"
    }
   ],
   "source": [
    "import evaluation.squad_eval as squad_eval_module\n",
    "reload(squad_eval_module)\n",
    "from evaluation.squad_eval import get_raw_scores_mod\n",
    "\n",
    "preds = dict(zip(train_set.get_column(\"id\"), results_generate))\n",
    "raws_scores, f1_scores = get_raw_scores_mod(train_set, preds)\n",
    "\n",
    "raws_scores, f1_scores"
   ]
  },
  {
   "cell_type": "code",
   "execution_count": 223,
   "metadata": {},
   "outputs": [
    {
     "name": "stdout",
     "output_type": "stream",
     "text": [
      "model output=  ['100', '12', '8', '32', '60,000', '90', '60', '38', '37,000', '482']\n",
      "ground truth=  [25.0, 36.0, 17.0, 64.0, 4800.0, 110.0, 70.0, 6.0, 46000.0, 750.0]\n"
     ]
    },
    {
     "data": {
      "text/plain": [
       "(array([False, False, False, False, False, False, False, False, False,\n",
       "        False]),\n",
       " 0.0)"
      ]
     },
     "execution_count": 223,
     "metadata": {},
     "output_type": "execute_result"
    }
   ],
   "source": [
    "print(\"model output= \", results_generate)\n",
    "print(\"ground truth= \", list(train_set.get_base_answer()))\n",
    "correct, accuracy = evaluate_generation(train_set, results_generate)\n",
    "correct, accuracy\n"
   ]
  },
  {
   "cell_type": "code",
   "execution_count": 224,
   "metadata": {},
   "outputs": [
    {
     "data": {
      "text/plain": [
       "(['Yes', 'Yes', 'No', 'No', 'No', 'No', 'Yes', 'No', 'Yes', 'No'],\n",
       " ['Yes', 'No', 'Yes', 'Yes', 'No', 'No', 'Yes', 'No', 'No', 'No'])"
      ]
     },
     "execution_count": 224,
     "metadata": {},
     "output_type": "execute_result"
    }
   ],
   "source": [
    "to_choice_mapping = {\n",
    "    \"not enough information\": \"No\",\n",
    "    \"enough information\": \"Yes\",\n",
    "}\n",
    "results_classify, list(train_set.get_type(to_choice_mapping))"
   ]
  },
  {
   "cell_type": "code",
   "execution_count": 225,
   "metadata": {},
   "outputs": [
    {
     "data": {
      "text/plain": [
       "(array([ True, False, False, False,  True,  True,  True,  True, False,\n",
       "         True]),\n",
       " 0.6)"
      ]
     },
     "execution_count": 225,
     "metadata": {},
     "output_type": "execute_result"
    }
   ],
   "source": [
    "correct, accuracy = evaluate_classification(\n",
    "    train_set,\n",
    "    results_classify, # type: ignore\n",
    "    to_choice_mapping=to_choice_mapping,\n",
    ")\n",
    "correct, accuracy"
   ]
  },
  {
   "cell_type": "code",
   "execution_count": 19,
   "metadata": {},
   "outputs": [
    {
     "data": {
      "text/plain": [
       "(array([[1., 0.],\n",
       "        [0., 2.],\n",
       "        [1., 1.]]),\n",
       " 0)"
      ]
     },
     "execution_count": 19,
     "metadata": {},
     "output_type": "execute_result"
    }
   ],
   "source": [
    "get_confusion_matrix(\n",
    "    predict=[\"unknown\", \"10\", \"11\", \"9\", \"unknown\"],\n",
    "    original=[\"unknown\", \"9\", \"11\", \"unknown\", \"unknown\"],\n",
    "    unknown_value = \"unknown\"\n",
    ")"
   ]
  }
 ],
 "metadata": {
  "kernelspec": {
   "display_name": "llms-project",
   "language": "python",
   "name": "python3"
  },
  "language_info": {
   "codemirror_mode": {
    "name": "ipython",
    "version": 3
   },
   "file_extension": ".py",
   "mimetype": "text/x-python",
   "name": "python",
   "nbconvert_exporter": "python",
   "pygments_lexer": "ipython3",
   "version": "3.9.18"
  }
 },
 "nbformat": 4,
 "nbformat_minor": 2
}
